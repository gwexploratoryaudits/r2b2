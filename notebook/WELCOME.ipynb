{
 "cells": [
  {
   "cell_type": "markdown",
   "metadata": {},
   "source": [
    "# R2B2 Notebooks\n",
    "\n",
    "Welcome to the R2B2 notebooks! The python notebooks we have created serve as a set of tutorials and demonstrations of how our library and the audits implemented within it function.\n",
    "\n",
    "## Getting Set Up\n",
    "\n",
    "There are some requirements to use these notebooks locally. The following explains how to set up your Jupyter Notebook environment properly.\n",
    "\n",
    "### Python Environment\n",
    "\n",
    "1. R2B2 runs with Python 3.7.x, so ensure you have this version of python installed either locally or within the enviornment you run Jupyter Notebook from.\n",
    "2. Ensure you are able to use the Python 3.7 kernel in Jupyter. \n",
    "  - In the `Kernel` menu, hover over `Change Kernel` and select the python version you believe might be Python3.7.\n",
    "  - Execute the cell below:"
   ]
  },
  {
   "cell_type": "code",
   "execution_count": 1,
   "metadata": {},
   "outputs": [
    {
     "data": {
      "text/plain": [
       "['/home/sarah/Documents/Research/r2b2/notebook',\n",
       " '/usr/local/lib/python37.zip',\n",
       " '/usr/local/lib/python3.7',\n",
       " '/usr/local/lib/python3.7/lib-dynload',\n",
       " '',\n",
       " '/home/sarah/.local/lib/python3.7/site-packages',\n",
       " '/usr/local/lib/python3.7/site-packages',\n",
       " '/usr/local/lib/python3.7/site-packages/r2b2-0.1.0-py3.7.egg',\n",
       " '/home/sarah/.local/lib/python3.7/site-packages/IPython/extensions',\n",
       " '/home/sarah/.ipython']"
      ]
     },
     "execution_count": 1,
     "metadata": {},
     "output_type": "execute_result"
    }
   ],
   "source": [
    "import sys"
   ]
  },
  {
   "cell_type": "markdown",
   "metadata": {},
   "source": [
    "If your output appears something like this:\n",
    "```\n",
    "['/home/username/r2b2/notebook',\n",
    " '/usr/local/lib/python37.zip',\n",
    " '/usr/local/lib/python3.7',\n",
    " '/usr/local/lib/python3.7/lib-dynload',\n",
    " '',\n",
    " '/home/username/.local/lib/python3.7/site-packages',\n",
    " '/usr/local/lib/python3.7/site-packages',\n",
    " '/usr/local/lib/python3.7/site-packages/r2b2-0.1.0-py3.7.egg',\n",
    " '/home/username/.local/lib/python3.7/site-packages/IPython/extensions',\n",
    " '/home/username/.ipython']\n",
    "```\n",
    "*Keep in mind, the above contains Unix-style paths, so yours may appear different.* The important information to look for is a python version number and the expected environment. If you only see something like `python3`, another way to check the exact version `Edit` -> `Edit Notebook Metadata` and check the `version` in `language-info`.\n",
    "\n",
    "**If your python kernel is running 3.7.x, skip ahead to [R2B2 Installation](#R2B2-Installation).** Otherwise, you need to install a new kernel for the notebook to use.\n",
    "\n",
    "The following explains how to install a python3.7.x kernel for jupyter notebook on a system where Python 3.7 is invoked with `python3.7`. *Note: If your Python 3.7 installation is invoked with a different command, use your systems command in place of `python3.7`*.\n",
    "\n",
    "1. Upgdate jupyter.\n",
    "\n",
    "```\n",
    "> python3.7 -m pip install --upgrade jupyter\n",
    "```\n",
    "\n",
    "2. Ensure `ipython` and `ipykernel` are installed.\n",
    "```\n",
    "> python3.7 -m pip install ipython \n",
    "...\n",
    "> python3.7 -m pip install ipykernel\n",
    "```\n",
    "3. Create new kernel\n",
    "```\n",
    "> python3.7 -m ipykernel install --user --name python3.7 --display-name \"Python 3.7\"\n",
    "```\n",
    "4. Ensure jupyter can see new kernel\n",
    "```\n",
    "    > jupyter kernelspec list\n",
    "    Available kernels:\n",
    "      python2     /home/username/.local/share/jupyter/kernels/python2\n",
    "      python3     /home/username/.local/share/jupyter/kernels/python3\n",
    "      python3.7   /home/username/.local/share/jupyter/kernels/python3.7\n",
    "```\n",
    "\n",
    "For more information on installing new kernels, see the [iPython Docs](https://ipython.readthedocs.io/en/latest/install/kernel_install.html)"
   ]
  },
  {
   "cell_type": "markdown",
   "metadata": {},
   "source": [
    "### R2B2 Installation\n",
    "\n",
    "**Note: `r2b2` is not published to `pip` yet, so installation requires building locally.**\n",
    "\n",
    "1. Clone the [r2b2 repository](https://github.com/gwexploratoryaudits/r2b2)\n",
    "2. From the root directory of the repository, run\n",
    "```\n",
    "python3.7 setup.py build install\n",
    "```\n",
    "3. Run the code cell below, if a x.x.x version number is output, you have successfully installed `r2b2`!"
   ]
  },
  {
   "cell_type": "code",
   "execution_count": 3,
   "metadata": {},
   "outputs": [
    {
     "data": {
      "text/plain": [
       "'0.1.0'"
      ]
     },
     "execution_count": 3,
     "metadata": {},
     "output_type": "execute_result"
    }
   ],
   "source": [
    "import r2b2\n",
    "r2b2.__version__"
   ]
  }
 ],
 "metadata": {
  "kernelspec": {
   "display_name": "Python3.7",
   "language": "python",
   "name": "python3.7"
  },
  "language_info": {
   "codemirror_mode": {
    "name": "ipython",
    "version": 3
   },
   "file_extension": ".py",
   "mimetype": "text/x-python",
   "name": "python",
   "nbconvert_exporter": "python",
   "pygments_lexer": "ipython3",
   "version": "3.7.1"
  }
 },
 "nbformat": 4,
 "nbformat_minor": 4
}
