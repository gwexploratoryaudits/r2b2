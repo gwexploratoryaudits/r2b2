{
 "cells": [
  {
   "cell_type": "code",
   "execution_count": 1,
   "metadata": {},
   "outputs": [],
   "source": [
    "from r2b2.contest import Contest, ContestType\n",
    "from r2b2.minerva import Minerva\n",
    "import r2b2.contest as contest\n",
    "import r2b2.tests.util as util\n",
    "import numpy as np"
   ]
  },
  {
   "cell_type": "markdown",
   "metadata": {},
   "source": [
    "## First example: calculate values for 50% margin contest ala illustrative graph\n",
    "\n",
    "TODO: How to handle audit with arbitrary observations via non-interactive code"
   ]
  },
  {
   "cell_type": "code",
   "execution_count": 2,
   "metadata": {},
   "outputs": [],
   "source": [
    "c = Contest(10000, {\n",
    "'A': 7500,\n",
    "       'B': 2500\n",
    "    }, 1, ['A'], ContestType.PLURALITY)"
   ]
  },
  {
   "cell_type": "code",
   "execution_count": 3,
   "metadata": {},
   "outputs": [],
   "source": [
    "# Alternative:\n",
    "# c = util.parse_contest('r2b2/tests/data/m50-contest.json')"
   ]
  },
  {
   "cell_type": "code",
   "execution_count": 4,
   "metadata": {},
   "outputs": [
    {
     "data": {
      "text/plain": [
       "Contest: [10000, {'A': 7500, 'B': 2500}, 1, ['A'], <ContestType.PLURALITY: 0>]"
      ]
     },
     "execution_count": 4,
     "metadata": {},
     "output_type": "execute_result"
    }
   ],
   "source": [
    "c"
   ]
  },
  {
   "cell_type": "code",
   "execution_count": 5,
   "metadata": {},
   "outputs": [],
   "source": [
    "m = Minerva(0.1, 0.5, c)"
   ]
  },
  {
   "cell_type": "code",
   "execution_count": 6,
   "metadata": {},
   "outputs": [
    {
     "data": {
      "text/plain": [
       "Minerva: [0.1, 0.0, 0.5, True, Contest: [10000, {'A': 7500, 'B': 2500}, 1, ['A'], <ContestType.PLURALITY: 0>]]"
      ]
     },
     "execution_count": 6,
     "metadata": {},
     "output_type": "execute_result"
    }
   ],
   "source": [
    "m"
   ]
  },
  {
   "cell_type": "code",
   "execution_count": 7,
   "metadata": {},
   "outputs": [
    {
     "data": {
      "text/plain": [
       "6"
      ]
     },
     "execution_count": 7,
     "metadata": {},
     "output_type": "execute_result"
    }
   ],
   "source": [
    "m.get_min_sample_size()"
   ]
  },
  {
   "cell_type": "code",
   "execution_count": 8,
   "metadata": {},
   "outputs": [
    {
     "data": {
      "text/plain": [
       "20"
      ]
     },
     "execution_count": 8,
     "metadata": {},
     "output_type": "execute_result"
    }
   ],
   "source": [
    "m.asn()"
   ]
  },
  {
   "cell_type": "code",
   "execution_count": 9,
   "metadata": {},
   "outputs": [],
   "source": [
    "m.compute_min_winner_ballots([50])"
   ]
  },
  {
   "cell_type": "code",
   "execution_count": 10,
   "metadata": {},
   "outputs": [
    {
     "data": {
      "text/plain": [
       "[31]"
      ]
     },
     "execution_count": 10,
     "metadata": {},
     "output_type": "execute_result"
    }
   ],
   "source": [
    "m.min_winner_ballots"
   ]
  },
  {
   "cell_type": "markdown",
   "metadata": {},
   "source": [
    "It seems that the code should catch this case, with a helpful error message about running current_dist_reported()?"
   ]
  },
  {
   "cell_type": "code",
   "execution_count": 11,
   "metadata": {},
   "outputs": [
    {
     "ename": "ZeroDivisionError",
     "evalue": "division by zero",
     "output_type": "error",
     "traceback": [
      "\u001b[0;31m---------------------------------------------------------------------------\u001b[0m",
      "\u001b[0;31mZeroDivisionError\u001b[0m                         Traceback (most recent call last)",
      "\u001b[0;32m<ipython-input-11-acbc276f072b>\u001b[0m in \u001b[0;36m<module>\u001b[0;34m\u001b[0m\n\u001b[0;32m----> 1\u001b[0;31m \u001b[0mm\u001b[0m\u001b[0;34m.\u001b[0m\u001b[0mcompute_risk\u001b[0m\u001b[0;34m(\u001b[0m\u001b[0;36m32\u001b[0m\u001b[0;34m)\u001b[0m\u001b[0;34m\u001b[0m\u001b[0;34m\u001b[0m\u001b[0m\n\u001b[0m",
      "\u001b[0;32m/srv/s/electionaudits/bayes/r2b2/src/r2b2/minerva.py\u001b[0m in \u001b[0;36mcompute_risk\u001b[0;34m(self, votes_for_winner, *args, **kwargs)\u001b[0m\n\u001b[1;32m    209\u001b[0m         \u001b[0mtail_null\u001b[0m \u001b[0;34m=\u001b[0m \u001b[0msum\u001b[0m\u001b[0;34m(\u001b[0m\u001b[0mself\u001b[0m\u001b[0;34m.\u001b[0m\u001b[0mdistribution_null\u001b[0m\u001b[0;34m[\u001b[0m\u001b[0mvotes_for_winner\u001b[0m\u001b[0;34m:\u001b[0m\u001b[0;34m]\u001b[0m\u001b[0;34m)\u001b[0m\u001b[0;34m\u001b[0m\u001b[0;34m\u001b[0m\u001b[0m\n\u001b[1;32m    210\u001b[0m         \u001b[0mtail_reported\u001b[0m \u001b[0;34m=\u001b[0m \u001b[0msum\u001b[0m\u001b[0;34m(\u001b[0m\u001b[0mself\u001b[0m\u001b[0;34m.\u001b[0m\u001b[0mdistribution_reported_tally\u001b[0m\u001b[0;34m[\u001b[0m\u001b[0mvotes_for_winner\u001b[0m\u001b[0;34m:\u001b[0m\u001b[0;34m]\u001b[0m\u001b[0;34m)\u001b[0m\u001b[0;34m\u001b[0m\u001b[0;34m\u001b[0m\u001b[0m\n\u001b[0;32m--> 211\u001b[0;31m         \u001b[0;32mreturn\u001b[0m \u001b[0mtail_null\u001b[0m \u001b[0;34m/\u001b[0m \u001b[0mtail_reported\u001b[0m\u001b[0;34m\u001b[0m\u001b[0;34m\u001b[0m\u001b[0m\n\u001b[0m\u001b[1;32m    212\u001b[0m \u001b[0;34m\u001b[0m\u001b[0m\n\u001b[1;32m    213\u001b[0m     \u001b[0;32mdef\u001b[0m \u001b[0mget_risk_level\u001b[0m\u001b[0;34m(\u001b[0m\u001b[0mself\u001b[0m\u001b[0;34m)\u001b[0m\u001b[0;34m:\u001b[0m\u001b[0;34m\u001b[0m\u001b[0;34m\u001b[0m\u001b[0m\n",
      "\u001b[0;31mZeroDivisionError\u001b[0m: division by zero"
     ]
    }
   ],
   "source": [
    "m.compute_risk(32)"
   ]
  },
  {
   "cell_type": "code",
   "execution_count": 12,
   "metadata": {},
   "outputs": [],
   "source": [
    "m.current_dist_reported()"
   ]
  },
  {
   "cell_type": "code",
   "execution_count": 13,
   "metadata": {},
   "outputs": [
    {
     "data": {
      "text/plain": [
       "array([  7.88860905e-31,   1.18329136e-28,   8.69719148e-27,\n",
       "         4.17465191e-25,   1.47156480e-23,   4.06151884e-22,\n",
       "         9.13841740e-21,   1.72324442e-19,   2.77873163e-18,\n",
       "         3.89022429e-17,   4.78497587e-16,   5.21997368e-15,\n",
       "         5.08947434e-14,   4.46307750e-13,   3.53858287e-12,\n",
       "         2.54777967e-11,   1.67198041e-10,   1.00318824e-09,\n",
       "         5.51753534e-09,   2.78780733e-08,   1.29633041e-07,\n",
       "         5.55570175e-07,   2.19702751e-06,   8.02392656e-06,\n",
       "         2.70807521e-05,   8.44919467e-05,   2.43726769e-04,\n",
       "         6.49938052e-04,   1.60163306e-03,   3.64509592e-03,\n",
       "         7.65470143e-03,   1.48155512e-02,   2.63902005e-02,\n",
       "         4.31839645e-02,   6.47759467e-02,   8.88355840e-02,\n",
       "         1.11044480e-01,   1.26050491e-01,   1.29367609e-01,\n",
       "         1.19416254e-01,   9.85184099e-02,   7.20866414e-02,\n",
       "         4.63414123e-02,   2.58649743e-02,   1.23446468e-02,\n",
       "         4.93785874e-03,   1.61017133e-03,   4.11107573e-04,\n",
       "         7.70826699e-05,   9.43869427e-06,   5.66321656e-07])"
      ]
     },
     "execution_count": 13,
     "metadata": {},
     "output_type": "execute_result"
    }
   ],
   "source": [
    "m.distribution_reported_tally"
   ]
  },
  {
   "cell_type": "code",
   "execution_count": 14,
   "metadata": {},
   "outputs": [
    {
     "data": {
      "text/plain": [
       "51"
      ]
     },
     "execution_count": 14,
     "metadata": {},
     "output_type": "execute_result"
    }
   ],
   "source": [
    "len(m.distribution_reported_tally)"
   ]
  },
  {
   "cell_type": "code",
   "execution_count": 15,
   "metadata": {},
   "outputs": [
    {
     "data": {
      "text/plain": [
       "array([  8.88178420e-16,   4.44089210e-14,   1.08801856e-12,\n",
       "         1.74082970e-11,   2.04547490e-10,   1.88183691e-09,\n",
       "         1.41137768e-08,   8.87151685e-08,   4.76844031e-07,\n",
       "         2.22527214e-06,   9.12361579e-06,   3.31767847e-05,\n",
       "         1.07824550e-04,   3.15179455e-04,   8.32974273e-04,\n",
       "         1.99913826e-03,   4.37311493e-03,   8.74622987e-03,\n",
       "         1.60347548e-02,   2.70059027e-02,   4.18591493e-02,\n",
       "         5.97987846e-02,   7.88256707e-02,   9.59616860e-02,\n",
       "         1.07956897e-01,   1.12275173e-01,   1.07956897e-01,\n",
       "         9.59616860e-02,   7.88256707e-02,   5.97987846e-02,\n",
       "         4.18591493e-02])"
      ]
     },
     "execution_count": 15,
     "metadata": {},
     "output_type": "execute_result"
    }
   ],
   "source": [
    "m.distribution_null"
   ]
  },
  {
   "cell_type": "code",
   "execution_count": 16,
   "metadata": {},
   "outputs": [
    {
     "data": {
      "text/plain": [
       "31"
      ]
     },
     "execution_count": 16,
     "metadata": {},
     "output_type": "execute_result"
    }
   ],
   "source": [
    "len(m.distribution_null)"
   ]
  },
  {
   "cell_type": "code",
   "execution_count": 17,
   "metadata": {},
   "outputs": [],
   "source": [
    "m.current_dist_null()"
   ]
  },
  {
   "cell_type": "code",
   "execution_count": 18,
   "metadata": {
    "scrolled": false
   },
   "outputs": [
    {
     "data": {
      "text/plain": [
       "array([  8.88178420e-16,   4.44089210e-14,   1.08801856e-12,\n",
       "         1.74082970e-11,   2.04547490e-10,   1.88183691e-09,\n",
       "         1.41137768e-08,   8.87151685e-08,   4.76844031e-07,\n",
       "         2.22527214e-06,   9.12361579e-06,   3.31767847e-05,\n",
       "         1.07824550e-04,   3.15179455e-04,   8.32974273e-04,\n",
       "         1.99913826e-03,   4.37311493e-03,   8.74622987e-03,\n",
       "         1.60347548e-02,   2.70059027e-02,   4.18591493e-02,\n",
       "         5.97987846e-02,   7.88256707e-02,   9.59616860e-02,\n",
       "         1.07956897e-01,   1.12275173e-01,   1.07956897e-01,\n",
       "         9.59616860e-02,   7.88256707e-02,   5.97987846e-02,\n",
       "         4.18591493e-02,   2.70059027e-02,   1.60347548e-02,\n",
       "         8.74622987e-03,   4.37311493e-03,   1.99913826e-03,\n",
       "         8.32974273e-04,   3.15179455e-04,   1.07824550e-04,\n",
       "         3.31767847e-05,   9.12361579e-06,   2.22527214e-06,\n",
       "         4.76844031e-07,   8.87151685e-08,   1.41137768e-08,\n",
       "         1.88183691e-09,   2.04547490e-10,   1.74082970e-11,\n",
       "         1.08801856e-12,   4.44089210e-14,   8.88178420e-16])"
      ]
     },
     "execution_count": 18,
     "metadata": {},
     "output_type": "execute_result"
    }
   ],
   "source": [
    "m.distribution_null"
   ]
  },
  {
   "cell_type": "code",
   "execution_count": 19,
   "metadata": {},
   "outputs": [
    {
     "data": {
      "text/plain": [
       "51"
      ]
     },
     "execution_count": 19,
     "metadata": {},
     "output_type": "execute_result"
    }
   ],
   "source": [
    "len(m.distribution_null)"
   ]
  },
  {
   "cell_type": "code",
   "execution_count": 20,
   "metadata": {},
   "outputs": [
    {
     "data": {
      "text/plain": [
       "0.033414425566758013"
      ]
     },
     "execution_count": 20,
     "metadata": {},
     "output_type": "execute_result"
    }
   ],
   "source": [
    "m.compute_risk(32)"
   ]
  },
  {
   "cell_type": "code",
   "execution_count": 21,
   "metadata": {},
   "outputs": [
    {
     "data": {
      "text/plain": [
       "[(0, 0.999999999999995),\n",
       " (1, 0.99999999999999412),\n",
       " (2, 0.99999999999994971),\n",
       " (3, 0.99999999999886169),\n",
       " (4, 0.99999999998145339),\n",
       " (5, 0.9999999997769059),\n",
       " (6, 0.99999999789506899),\n",
       " (7, 0.99999998378129218),\n",
       " (8, 0.99999989506612363),\n",
       " (9, 0.99999941822209271),\n",
       " (10, 0.99999719294994838),\n",
       " (11, 0.99998806933415707),\n",
       " (12, 0.9999548925494649),\n",
       " (13, 0.99984706799924983),\n",
       " (14, 0.9995318885450718),\n",
       " (15, 0.99869891427567015),\n",
       " (16, 0.99669977604601134),\n",
       " (17, 0.9923266612788878),\n",
       " (18, 0.98358043239806459),\n",
       " (19, 0.96754568296328991),\n",
       " (20, 0.94053980625873534),\n",
       " (21, 0.89868077205676977),\n",
       " (22, 0.83888244364773945),\n",
       " (23, 0.76005838610907794),\n",
       " (24, 0.66410174889038454),\n",
       " (25, 0.55615873232159985),\n",
       " (26, 0.44391679944973528),\n",
       " (27, 0.33602858406556296),\n",
       " (28, 0.24018790457911424),\n",
       " (29, 0.16154104415410725),\n",
       " (30, 0.10195792858213848),\n",
       " (31, 0.060299450434402241),\n",
       " (32, 0.033414425566758013),\n",
       " (33, 0.017377473516471977),\n",
       " (34, 0.0085099270818493385)]"
      ]
     },
     "execution_count": 21,
     "metadata": {},
     "output_type": "execute_result"
    }
   ],
   "source": [
    "[(obs, m.compute_risk(obs)) for obs in range(0, 35)]"
   ]
  },
  {
   "cell_type": "code",
   "execution_count": 22,
   "metadata": {},
   "outputs": [
    {
     "data": {
      "text/plain": [
       "[0.9860823913213379]"
      ]
     },
     "execution_count": 22,
     "metadata": {},
     "output_type": "execute_result"
    }
   ],
   "source": [
    "m.stopping_prob_schedule"
   ]
  },
  {
   "cell_type": "code",
   "execution_count": 23,
   "metadata": {},
   "outputs": [
    {
     "data": {
      "text/plain": [
       "[50]"
      ]
     },
     "execution_count": 23,
     "metadata": {},
     "output_type": "execute_result"
    }
   ],
   "source": [
    "m.rounds"
   ]
  },
  {
   "cell_type": "markdown",
   "metadata": {},
   "source": [
    "Show peak values of distributions, along with the index"
   ]
  },
  {
   "cell_type": "code",
   "execution_count": 24,
   "metadata": {},
   "outputs": [],
   "source": [
    "amn = np.argmax(m.distribution_null)"
   ]
  },
  {
   "cell_type": "code",
   "execution_count": 25,
   "metadata": {},
   "outputs": [
    {
     "data": {
      "text/plain": [
       "(25, 0.11227517265921609)"
      ]
     },
     "execution_count": 25,
     "metadata": {},
     "output_type": "execute_result"
    }
   ],
   "source": [
    "amn, m.distribution_null[amn]"
   ]
  },
  {
   "cell_type": "code",
   "execution_count": 26,
   "metadata": {},
   "outputs": [],
   "source": [
    "amr = np.argmax(m.distribution_reported_tally)"
   ]
  },
  {
   "cell_type": "code",
   "execution_count": 27,
   "metadata": {
    "scrolled": true
   },
   "outputs": [
    {
     "data": {
      "text/plain": [
       "(38, 0.12936760901135547)"
      ]
     },
     "execution_count": 27,
     "metadata": {},
     "output_type": "execute_result"
    }
   ],
   "source": [
    "amr, m.distribution_reported_tally[amr]"
   ]
  },
  {
   "cell_type": "markdown",
   "metadata": {},
   "source": [
    "TODO: ability to estimate sample size given stopping probability"
   ]
  },
  {
   "cell_type": "code",
   "execution_count": 28,
   "metadata": {},
   "outputs": [],
   "source": [
    "m.next_sample_size()"
   ]
  },
  {
   "cell_type": "markdown",
   "metadata": {},
   "source": [
    "This is currently only set for interactive runs, it seems"
   ]
  },
  {
   "cell_type": "code",
   "execution_count": 29,
   "metadata": {},
   "outputs": [
    {
     "data": {
      "text/plain": [
       "[]"
      ]
     },
     "execution_count": 29,
     "metadata": {},
     "output_type": "execute_result"
    }
   ],
   "source": [
    "m.sample_winner_ballots"
   ]
  },
  {
   "cell_type": "markdown",
   "metadata": {},
   "source": [
    "## Another example, reading in an election"
   ]
  },
  {
   "cell_type": "code",
   "execution_count": 30,
   "metadata": {},
   "outputs": [],
   "source": [
    "e = util.parse_election('r2b2/tests/data/election_template.json')"
   ]
  },
  {
   "cell_type": "code",
   "execution_count": 31,
   "metadata": {},
   "outputs": [
    {
     "data": {
      "text/plain": [
       "Election: [ElectionName, 10000, [Contest: [100, {'CandidateA': 50, 'CandidateB': 50}, 1, ['CandidateA'], <ContestType.PLURALITY: 0>], Contest: [100, {'CandidateA': 50, 'CandidateB': 50}, 1, ['CandidateA'], <ContestType.PLURALITY: 0>], ]]"
      ]
     },
     "execution_count": 31,
     "metadata": {},
     "output_type": "execute_result"
    }
   ],
   "source": [
    "e"
   ]
  },
  {
   "cell_type": "code",
   "execution_count": 32,
   "metadata": {},
   "outputs": [
    {
     "data": {
      "text/plain": [
       "{'contest1': Contest: [100, {'CandidateA': 50, 'CandidateB': 50}, 1, ['CandidateA'], <ContestType.PLURALITY: 0>],\n",
       " 'contest2': Contest: [100, {'CandidateA': 50, 'CandidateB': 50}, 1, ['CandidateA'], <ContestType.PLURALITY: 0>]}"
      ]
     },
     "execution_count": 32,
     "metadata": {},
     "output_type": "execute_result"
    }
   ],
   "source": [
    "e.contests"
   ]
  },
  {
   "cell_type": "code",
   "execution_count": 33,
   "metadata": {},
   "outputs": [
    {
     "data": {
      "text/plain": [
       "'ElectionName'"
      ]
     },
     "execution_count": 33,
     "metadata": {},
     "output_type": "execute_result"
    }
   ],
   "source": [
    "e.name"
   ]
  },
  {
   "cell_type": "code",
   "execution_count": 34,
   "metadata": {},
   "outputs": [
    {
     "data": {
      "text/plain": [
       "10000"
      ]
     },
     "execution_count": 34,
     "metadata": {},
     "output_type": "execute_result"
    }
   ],
   "source": [
    "e.total_ballots"
   ]
  }
 ],
 "metadata": {
  "kernelspec": {
   "display_name": "Python 3",
   "language": "python",
   "name": "python3"
  },
  "language_info": {
   "codemirror_mode": {
    "name": "ipython",
    "version": 3
   },
   "file_extension": ".py",
   "mimetype": "text/x-python",
   "name": "python",
   "nbconvert_exporter": "python",
   "pygments_lexer": "ipython3",
   "version": "3.6.9"
  },
  "toc": {
   "colors": {
    "hover_highlight": "#DAA520",
    "running_highlight": "#FF0000",
    "selected_highlight": "#FFD700"
   },
   "moveMenuLeft": true,
   "nav_menu": {
    "height": "12px",
    "width": "252px"
   },
   "navigate_menu": true,
   "number_sections": true,
   "sideBar": true,
   "threshold": 4,
   "toc_cell": false,
   "toc_section_display": "block",
   "toc_window_display": false,
   "widenNotebook": false
  }
 },
 "nbformat": 4,
 "nbformat_minor": 2
}
