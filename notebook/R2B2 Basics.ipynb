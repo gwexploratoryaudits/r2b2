{
 "cells": [
  {
   "cell_type": "markdown",
   "metadata": {},
   "source": [
    "# R2B2 Basics\n",
    "\n",
    "The `r2b2` library provides a simple framework for working with risk-limiting audits. \n",
    "\n",
    "## Modules\n",
    "\n",
    "Data is divided into 3 main object classes:\n",
    "\n",
    "- `Election` - Maintain data specific to an election and the collection of contests within it.\n",
    "- `Contest` - Maintain data specific to a single contest such as candidates, tally, etc.\n",
    "- `Audit` - An abstract class which gives a structure for a risk-limiting audit and hold the parameters of an audit such as risk limit, sampling method, etc.\n",
    "\n",
    "In addition to these modules, `r2b2` also provides a command line tool.\n",
    "\n",
    "## Specific Audits\n",
    "\n",
    "The `Audit` class is an abstract class that cannot be instantiated. Instead, specific audits (such as BRAVO, BRLA, etc.) are implemented as subclasses of `Audit` which can then be instantiated.\n",
    "\n",
    "\n",
    "# A Simple Example\n",
    "\n",
    "Let's learn the basic usage of `r2b2` with a simple example! \n",
    "\n",
    "Suppose you have data from a certain contest and you would like to compare the possible results from different audits on the contest. For this example, we will use the Bayesian Risk-Limiting audit.\n",
    "\n",
    "First, we will need to import the necessary packages."
   ]
  },
  {
   "cell_type": "code",
   "execution_count": 1,
   "metadata": {},
   "outputs": [],
   "source": [
    "from r2b2.contest import Contest, ContestType\n",
    "from r2b2.brla import BayesianRLA as BRLA"
   ]
  },
  {
   "cell_type": "markdown",
   "metadata": {},
   "source": [
    "## Creating a Contest\n",
    "\n",
    "First we create a plurality contest with the following data:\n",
    "\n",
    "||||\n",
    "|:---|:---|:---|\n",
    "| | Ballots Cast | 1000|\n",
    "|Tally | A | 700 |\n",
    "||B | 300 |\n",
    "|| Reported Winner | A |\n"
   ]
  },
  {
   "cell_type": "code",
   "execution_count": 2,
   "metadata": {},
   "outputs": [],
   "source": [
    "example_contest = Contest(1000, {'A': 700, 'B': 300}, 1, ['A'], ContestType.PLURALITY)\n",
    "\n",
    "# TODO: add print(contest) once cli branch pulled in"
   ]
  },
  {
   "cell_type": "markdown",
   "metadata": {},
   "source": [
    "## Creating an Audit\n",
    "\n",
    "Let's start by creating just one audit to examine what we can do with the audit class.\n",
    "\n",
    "Our audit will have the following parameters:\n",
    "\n",
    "|||\n",
    "|:---|:---|\n",
    "|Risk Limit| 10% |\n",
    "|Maximum Fraction of Ballots to draw | 30% |\n"
   ]
  },
  {
   "cell_type": "code",
   "execution_count": 3,
   "metadata": {},
   "outputs": [],
   "source": [
    "audit1 = BRLA(0.1, 0.3, example_contest)"
   ]
  },
  {
   "cell_type": "markdown",
   "metadata": {},
   "source": [
    "### Using the Audit\n",
    "\n",
    "Assume you know what the audit execution will be before the audit beings: You will to draw samples from the contest ballots in quantities of 100 for 3 rounds, giving total sample sizes of 100, 200, and 300. \n",
    "\n",
    "Then, before the audit begins, we can compute the minimum number of ballots for the reported winner which need to be found in each rounds sample in order to stop the audit at that round. We will use the `compute_min_winner_ballots(rouunds)` to compute these minimums."
   ]
  },
  {
   "cell_type": "code",
   "execution_count": 4,
   "metadata": {},
   "outputs": [
    {
     "name": "stdout",
     "output_type": "stream",
     "text": [
      "[100, 200, 300]\n",
      "[63, 118, 172]\n"
     ]
    }
   ],
   "source": [
    "rounds = [100, 200, 300]\n",
    "min_winner_ballots1 = audit1.compute_min_winner_ballots(rounds)\n",
    "print(rounds)\n",
    "print(min_winner_ballots1)"
   ]
  },
  {
   "cell_type": "markdown",
   "metadata": {},
   "source": [
    "If you do not know the audit execution ahead of time, then you can compute the risk of a given sample and compare to the esired risk limit during execution. \n",
    "\n",
    "Let's say we draw a first round of 94 ballots and find 39 ballots for candidate A. Then we use `compute_risk(votes_for_winner, round)` to get the risk level of this round."
   ]
  },
  {
   "cell_type": "code",
   "execution_count": 4,
   "metadata": {},
   "outputs": [
    {
     "name": "stdout",
     "output_type": "stream",
     "text": [
      "Risk:  0.9571428048908984\n",
      "Stopping condition met?  False\n"
     ]
    }
   ],
   "source": [
    "current_risk = audit1.compute_risk(39, 94)\n",
    "print('Risk: ', current_risk)\n",
    "print('Stopping condition met? ', current_risk < 0.1)"
   ]
  },
  {
   "cell_type": "markdown",
   "metadata": {},
   "source": [
    "As you can see, we do not yet meet hte stopping condition. For the next round, you draw a sample of 154 ballots (for a total of 248) and find 113 ballots for candidate A (for a total of 152) and check the risk lmit again."
   ]
  },
  {
   "cell_type": "code",
   "execution_count": 5,
   "metadata": {},
   "outputs": [
    {
     "name": "stdout",
     "output_type": "stream",
     "text": [
      "Risk:  0.0015727415171509895\n",
      "Stopping condition met?  True\n"
     ]
    }
   ],
   "source": [
    "current_risk = audit1.compute_risk(152, 248)\n",
    "print('Risk: ', current_risk)\n",
    "print('Stopping condition met? ', current_risk < 0.1)"
   ]
  },
  {
   "cell_type": "markdown",
   "metadata": {},
   "source": [
    "**You meet the stopping condition!**"
   ]
  },
  {
   "cell_type": "markdown",
   "metadata": {},
   "source": [
    "## Writing an Audit Script\n",
    "\n",
    "Now that you know how to use Contests and Audits, let's write a simple script to create a table comparing the minimum number of winner ballots needed in each round for different risk limits. \n",
    "\n",
    "**Example Use Case:**\n",
    "> You are about to audit a contest and have decided you are willing to sample at most 300 ballots across 3 rounds (with cumulative sizes 100, 200, and 300) and must determine what risk limit to use."
   ]
  },
  {
   "cell_type": "code",
   "execution_count": 7,
   "metadata": {},
   "outputs": [],
   "source": [
    "# Table data\n",
    "risk_limits = [0.01, 0.02, 0.05, 0.1, 0.15, 0.2]\n",
    "rounds = [100, 200, 300]\n",
    "results = {}\n",
    "\n",
    "# Create an audit for each of the risk limits\n",
    "# Find the minimum ballots needed to stop for each round size\n",
    "# Store minimums in results\n",
    "for r in risk_limits:\n",
    "    audit = BRLA(r, 0.3, example_contest)\n",
    "    results[r] = audit.compute_min_winner_ballots(rounds)"
   ]
  },
  {
   "cell_type": "code",
   "execution_count": 27,
   "metadata": {},
   "outputs": [
    {
     "name": "stdout",
     "output_type": "stream",
     "text": [
      "Risk / Rounds\n",
      "     |  100   | 200   | 300  \n",
      "---------------------------\n",
      "0.01 |  67    | 123   | 177  \n",
      "0.02 |  66    | 122   | 176  \n",
      "0.05 |  65    | 120   | 174  \n",
      "0.10 |  63    | 118   | 172  \n",
      "0.15 |  62    | 117   | 171  \n",
      "0.20 |  62    | 117   | 170  \n"
     ]
    }
   ],
   "source": [
    "# Print table with minimal formatting\n",
    "print(\"Risk / Rounds\")\n",
    "print(\"     | \", ' | '.join('{:<5}'.format(r) for r in rounds))\n",
    "print('---------------------------')\n",
    "for k,v in results.items():\n",
    "    left = '{:.2f} | '.format(k)\n",
    "    right = ' | '.join('{:<5}'.format(i) for i in v)\n",
    "    print(left, right)"
   ]
  },
  {
   "cell_type": "markdown",
   "metadata": {},
   "source": [
    "You can now see the different minimum stopping values you would need for different risk limits for an audit with the given round schedule. Intuitively, the number of winner ballots needed to stop in each round decreases as the risk limit increases. \n",
    "\n",
    "\n",
    "Now let us see how we might compare round sizes given a risk limit.\n",
    "\n",
    "**Example Use Case:**\n",
    "> You are about to audit a contest and have decided to use a 5% risk limit and are willing to sample at most 300 ballots across 5 rounds. What sample sizes should you use?"
   ]
  },
  {
   "cell_type": "code",
   "execution_count": 43,
   "metadata": {
    "scrolled": true
   },
   "outputs": [],
   "source": [
    "# Create an audit object for the given risk limit and max sample size\n",
    "audit = BRLA(0.05, 0.3, example_contest)\n",
    "\n",
    "# Generate a list of stopping values from the min to max sample size\n",
    "results2 = audit.compute_all_min_winner_ballots()\n",
    "rounds = [i for i in range(audit.min_sample_size, 301)]"
   ]
  },
  {
   "cell_type": "code",
   "execution_count": 44,
   "metadata": {
    "scrolled": true
   },
   "outputs": [
    {
     "name": "stdout",
     "output_type": "stream",
     "text": [
      "7    | 7   \n",
      "8    | 8   \n",
      "9    | 9   \n",
      "10   | 9   \n",
      "11   | 10  \n",
      "12   | 11  \n",
      "13   | 12  \n",
      "14   | 12  \n",
      "15   | 13  \n",
      "16   | 14  \n",
      "17   | 14  \n",
      "18   | 15  \n",
      "19   | 16  \n",
      "20   | 16  \n",
      "21   | 17  \n",
      "22   | 18  \n",
      "23   | 18  \n",
      "24   | 19  \n",
      "25   | 20  \n",
      "26   | 20  \n",
      "27   | 21  \n",
      "28   | 22  \n",
      "29   | 22  \n",
      "30   | 23  \n",
      "31   | 24  \n",
      "32   | 24  \n",
      "33   | 25  \n",
      "34   | 25  \n",
      "35   | 26  \n",
      "36   | 27  \n",
      "37   | 27  \n",
      "38   | 28  \n",
      "39   | 29  \n",
      "40   | 29  \n",
      "41   | 30  \n",
      "42   | 30  \n",
      "43   | 31  \n",
      "44   | 32  \n",
      "45   | 32  \n",
      "46   | 33  \n",
      "47   | 33  \n",
      "48   | 34  \n",
      "49   | 35  \n",
      "50   | 35  \n",
      "51   | 36  \n",
      "52   | 36  \n",
      "53   | 37  \n",
      "54   | 38  \n",
      "55   | 38  \n",
      "56   | 39  \n",
      "57   | 39  \n",
      "58   | 40  \n",
      "59   | 41  \n",
      "60   | 41  \n",
      "61   | 42  \n",
      "62   | 42  \n",
      "63   | 43  \n",
      "64   | 44  \n",
      "65   | 44  \n",
      "66   | 45  \n",
      "67   | 45  \n",
      "68   | 46  \n",
      "69   | 47  \n",
      "70   | 47  \n",
      "71   | 48  \n",
      "72   | 48  \n",
      "73   | 49  \n",
      "74   | 50  \n",
      "75   | 50  \n",
      "76   | 51  \n",
      "77   | 51  \n",
      "78   | 52  \n",
      "79   | 52  \n",
      "80   | 53  \n",
      "81   | 54  \n",
      "82   | 54  \n",
      "83   | 55  \n",
      "84   | 55  \n",
      "85   | 56  \n",
      "86   | 56  \n",
      "87   | 57  \n",
      "88   | 58  \n",
      "89   | 58  \n",
      "90   | 59  \n",
      "91   | 59  \n",
      "92   | 60  \n",
      "93   | 61  \n",
      "94   | 61  \n",
      "95   | 62  \n",
      "96   | 62  \n",
      "97   | 63  \n",
      "98   | 63  \n",
      "99   | 64  \n",
      "100  | 65  \n",
      "101  | 65  \n",
      "102  | 66  \n",
      "103  | 66  \n",
      "104  | 67  \n",
      "105  | 67  \n",
      "106  | 68  \n",
      "107  | 69  \n",
      "108  | 69  \n",
      "109  | 70  \n",
      "110  | 70  \n",
      "111  | 71  \n",
      "112  | 71  \n",
      "113  | 72  \n",
      "114  | 72  \n",
      "115  | 73  \n",
      "116  | 74  \n",
      "117  | 74  \n",
      "118  | 75  \n",
      "119  | 75  \n",
      "120  | 76  \n",
      "121  | 76  \n",
      "122  | 77  \n",
      "123  | 78  \n",
      "124  | 78  \n",
      "125  | 79  \n",
      "126  | 79  \n",
      "127  | 80  \n",
      "128  | 80  \n",
      "129  | 81  \n",
      "130  | 81  \n",
      "131  | 82  \n",
      "132  | 83  \n",
      "133  | 83  \n",
      "134  | 84  \n",
      "135  | 84  \n",
      "136  | 85  \n",
      "137  | 85  \n",
      "138  | 86  \n",
      "139  | 87  \n",
      "140  | 87  \n",
      "141  | 88  \n",
      "142  | 88  \n",
      "143  | 89  \n",
      "144  | 89  \n",
      "145  | 90  \n",
      "146  | 90  \n",
      "147  | 91  \n",
      "148  | 92  \n",
      "149  | 92  \n",
      "150  | 93  \n",
      "151  | 93  \n",
      "152  | 94  \n",
      "153  | 94  \n",
      "154  | 95  \n",
      "155  | 95  \n",
      "156  | 96  \n",
      "157  | 97  \n",
      "158  | 97  \n",
      "159  | 98  \n",
      "160  | 98  \n",
      "161  | 99  \n",
      "162  | 99  \n",
      "163  | 100 \n",
      "164  | 100 \n",
      "165  | 101 \n",
      "166  | 101 \n",
      "167  | 102 \n",
      "168  | 103 \n",
      "169  | 103 \n",
      "170  | 104 \n",
      "171  | 104 \n",
      "172  | 105 \n",
      "173  | 105 \n",
      "174  | 106 \n",
      "175  | 106 \n",
      "176  | 107 \n",
      "177  | 108 \n",
      "178  | 108 \n",
      "179  | 109 \n",
      "180  | 109 \n",
      "181  | 110 \n",
      "182  | 110 \n",
      "183  | 111 \n",
      "184  | 111 \n",
      "185  | 112 \n",
      "186  | 112 \n",
      "187  | 113 \n",
      "188  | 114 \n",
      "189  | 114 \n",
      "190  | 115 \n",
      "191  | 115 \n",
      "192  | 116 \n",
      "193  | 116 \n",
      "194  | 117 \n",
      "195  | 117 \n",
      "196  | 118 \n",
      "197  | 118 \n",
      "198  | 119 \n",
      "199  | 120 \n",
      "200  | 120 \n",
      "201  | 121 \n",
      "202  | 121 \n",
      "203  | 122 \n",
      "204  | 122 \n",
      "205  | 123 \n",
      "206  | 123 \n",
      "207  | 124 \n",
      "208  | 124 \n",
      "209  | 125 \n",
      "210  | 125 \n",
      "211  | 126 \n",
      "212  | 127 \n",
      "213  | 127 \n",
      "214  | 128 \n",
      "215  | 128 \n",
      "216  | 129 \n",
      "217  | 129 \n",
      "218  | 130 \n",
      "219  | 130 \n",
      "220  | 131 \n",
      "221  | 131 \n",
      "222  | 132 \n",
      "223  | 133 \n",
      "224  | 133 \n",
      "225  | 134 \n",
      "226  | 134 \n",
      "227  | 135 \n",
      "228  | 135 \n",
      "229  | 136 \n",
      "230  | 136 \n",
      "231  | 137 \n",
      "232  | 137 \n",
      "233  | 138 \n",
      "234  | 138 \n",
      "235  | 139 \n",
      "236  | 140 \n",
      "237  | 140 \n",
      "238  | 141 \n",
      "239  | 141 \n",
      "240  | 142 \n",
      "241  | 142 \n",
      "242  | 143 \n",
      "243  | 143 \n",
      "244  | 144 \n",
      "245  | 144 \n",
      "246  | 145 \n",
      "247  | 145 \n",
      "248  | 146 \n",
      "249  | 146 \n",
      "250  | 147 \n",
      "251  | 148 \n",
      "252  | 148 \n",
      "253  | 149 \n",
      "254  | 149 \n",
      "255  | 150 \n",
      "256  | 150 \n",
      "257  | 151 \n",
      "258  | 151 \n",
      "259  | 152 \n",
      "260  | 152 \n",
      "261  | 153 \n",
      "262  | 153 \n",
      "263  | 154 \n",
      "264  | 154 \n",
      "265  | 155 \n",
      "266  | 156 \n",
      "267  | 156 \n",
      "268  | 157 \n",
      "269  | 157 \n",
      "270  | 158 \n",
      "271  | 158 \n",
      "272  | 159 \n",
      "273  | 159 \n",
      "274  | 160 \n",
      "275  | 160 \n",
      "276  | 161 \n",
      "277  | 161 \n",
      "278  | 162 \n",
      "279  | 162 \n",
      "280  | 163 \n",
      "281  | 163 \n",
      "282  | 164 \n",
      "283  | 165 \n",
      "284  | 165 \n",
      "285  | 166 \n",
      "286  | 166 \n",
      "287  | 167 \n",
      "288  | 167 \n",
      "289  | 168 \n",
      "290  | 168 \n",
      "291  | 169 \n",
      "292  | 169 \n",
      "293  | 170 \n",
      "294  | 170 \n",
      "295  | 171 \n",
      "296  | 171 \n",
      "297  | 172 \n",
      "298  | 172 \n",
      "299  | 173 \n",
      "300  | 174 \n"
     ]
    }
   ],
   "source": [
    "# Print ful list of round sizes\n",
    "for i in range(len(rounds)):\n",
    "    print('{:<4} | {:<4}'.format(rounds[i], results2[i]))"
   ]
  },
  {
   "cell_type": "markdown",
   "metadata": {},
   "source": [
    "Now we have a list of all the possible round sizes and their minimum winner ballots to stop. This list is very long, to help decide which round sizes to use, let's assume a few more constraints:\n",
    "\n",
    "- You won't sample any fewer than 20 ballots\n",
    "- You only want sample sizes that are multiples of 20\n",
    "\n",
    "Now we simply retrieve the relevant round sizes from the list of results and print them in a table. Let's also provide some additional information: the minimum's proportion of the sample size."
   ]
  },
  {
   "cell_type": "code",
   "execution_count": 62,
   "metadata": {},
   "outputs": [
    {
     "name": "stdout",
     "output_type": "stream",
     "text": [
      "Round | Mininum Stopping | Proportion\n",
      "------|------------------|-----------\n",
      "20    | 16               | 0.800\n",
      "40    | 29               | 0.725\n",
      "60    | 41               | 0.683\n",
      "80    | 53               | 0.662\n",
      "100   | 65               | 0.650\n",
      "120   | 76               | 0.633\n",
      "140   | 87               | 0.621\n",
      "160   | 98               | 0.613\n",
      "180   | 109              | 0.606\n",
      "200   | 120              | 0.600\n",
      "220   | 131              | 0.595\n",
      "240   | 142              | 0.592\n",
      "260   | 152              | 0.585\n",
      "280   | 163              | 0.582\n",
      "300   | 174              | 0.580\n"
     ]
    }
   ],
   "source": [
    "better_results = {}\n",
    "# Get multiples of 20\n",
    "for i in range(rounds.index(20), len(rounds), 20):\n",
    "    better_results[rounds[i]] = results2[i]\n",
    "\n",
    "# Print better results table\n",
    "print('Round | Mininum Stopping | Proportion')\n",
    "print('------|------------------|-----------')\n",
    "for k,v in better_results.items():\n",
    "    print('{:<5} | {:<16} | {:.3f}'.format(k ,v, v/k))"
   ]
  },
  {
   "cell_type": "markdown",
   "metadata": {},
   "source": [
    "Now you have a digestible list of round sizes with some additional information to help decide on the round sizes."
   ]
  }
 ],
 "metadata": {
  "kernelspec": {
   "display_name": "Python3.7",
   "language": "python",
   "name": "python3.7"
  },
  "language_info": {
   "codemirror_mode": {
    "name": "ipython",
    "version": 3
   },
   "file_extension": ".py",
   "mimetype": "text/x-python",
   "name": "python",
   "nbconvert_exporter": "python",
   "pygments_lexer": "ipython3",
   "version": "3.7.1"
  }
 },
 "nbformat": 4,
 "nbformat_minor": 4
}
