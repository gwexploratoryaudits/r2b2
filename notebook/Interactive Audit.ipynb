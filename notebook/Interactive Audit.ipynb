{
 "cells": [
  {
   "cell_type": "markdown",
   "metadata": {},
   "source": [
    "# Interactive Audit Execution\n",
    "\n",
    "The `Audit` class provides aninteractive audit execution for all audit subclasses through the `run()` method. Try running the code below with the following sets of input:\n",
    "\n",
    "| | Option 1| Option 2|\n",
    "|:---|:---|:---|\n",
    "|Sample Size | 100 |\n",
    "| Ballots Found | 50 | 60 |\n",
    "|Sample Size | 200 |\n",
    "| Ballots Found | 100 | 120 |\n",
    "|Sample Size | 300 |\n",
    "| Ballots Found | 150 | 180 |\n",
    "|Sample Size | 400 |\n",
    "| Ballots Found | 200 | 240 |\n",
    "|Sample Size | 500 |\n",
    "| Ballots Found | 250 | 300 |\n",
    "\n",
    "You should see that Option 1 will not stop and the maximum sample sise is exceeded while Option 2 stops in the second round. "
   ]
  },
  {
   "cell_type": "code",
   "execution_count": null,
   "metadata": {},
   "outputs": [],
   "source": [
    "from r2b2.brla import BayesianRLA as BRLA\n",
    "from r2b2.contest import Contest, ContestType"
   ]
  },
  {
   "cell_type": "code",
   "execution_count": null,
   "metadata": {},
   "outputs": [],
   "source": [
    "contest = Contest(1000, {'Sarah': 600, 'Grant': 400}, 1, ['Sarah'], ContestType.PLURALITY)\n",
    "audit = BRLA(0.1, 0.5, contest)\n",
    "audit.run()"
   ]
  }
 ],
 "metadata": {
  "kernelspec": {
   "display_name": "Python3.7",
   "language": "python",
   "name": "python3.7"
  },
  "language_info": {
   "codemirror_mode": {
    "name": "ipython",
    "version": 3
   },
   "file_extension": ".py",
   "mimetype": "text/x-python",
   "name": "python",
   "nbconvert_exporter": "python",
   "pygments_lexer": "ipython3",
   "version": "3.7.1"
  }
 },
 "nbformat": 4,
 "nbformat_minor": 4
}
